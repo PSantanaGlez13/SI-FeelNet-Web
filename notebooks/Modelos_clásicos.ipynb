{
  "cells": [
    {
      "cell_type": "code",
      "execution_count": 1,
      "metadata": {
        "id": "tNT61nmS8eFQ"
      },
      "outputs": [],
      "source": [
        "# Importar las librerías necesarias\n",
        "import pandas as pd\n",
        "import numpy as np\n",
        "\n",
        "from sklearn.model_selection import train_test_split\n",
        "from sklearn.naive_bayes import GaussianNB\n",
        "from sklearn.metrics import accuracy_score, classification_report\n",
        "from sklearn.feature_extraction.text import TfidfVectorizer\n",
        "from imblearn.over_sampling import SMOTE\n",
        "from sklearn.naive_bayes import MultinomialNB\n",
        "from sklearn.model_selection import GridSearchCV\n",
        "from sklearn.linear_model import LogisticRegression\n",
        "from sklearn.multiclass import OneVsRestClassifier\n",
        "from sklearn.tree import DecisionTreeClassifier\n",
        "\n",
        "import matplotlib.pyplot as plt"
      ]
    },
    {
      "cell_type": "code",
      "execution_count": 2,
      "metadata": {
        "id": "suunLZsf3IJ5"
      },
      "outputs": [],
      "source": [
        "# Cargar un conjunto de datos\n",
        "df = pd.read_csv('out2.csv')\n",
        "\n",
        "X = df['text']\n",
        "y = df['labels']  # Etiqueta objetivo"
      ]
    },
    {
      "cell_type": "code",
      "source": [
        "# Usar TfidfVectorizer\n",
        "#######################\n",
        "\n",
        "def custom_tokenizer(text):\n",
        "    # Split the text by spaces, treating each space-separated part as a word\n",
        "    return text.split(' ')\n",
        "\n",
        "vectorizer = TfidfVectorizer(min_df=2, tokenizer=custom_tokenizer)\n",
        "#vectorizer = TfidfVectorizer(min_df=3, max_df=.3)\n",
        "\n",
        "X_vectorized = vectorizer.fit_transform(X)\n",
        "print(f'Tamaño de X_vectorized: {X_vectorized.shape}')\n",
        "\n",
        "# Dividir los datos en entrenamiento y prueba\n",
        "X_train, X_valid, y_train, y_valid = train_test_split(X_vectorized, y, test_size=0.15, stratify=y, random_state=42)\n",
        "X_valid, X_test, y_valid, y_test = train_test_split(X_valid, y_valid, test_size=0.4, stratify=y_valid, random_state=42)\n",
        "\n",
        "## Usar SMOTE para balancear las clases\n",
        "smote = SMOTE()\n",
        "X_train_balanced, y_train_balanced = smote.fit_resample(X_train, y_train)"
      ],
      "metadata": {
        "id": "YyLLsG3UfAl5",
        "colab": {
          "base_uri": "https://localhost:8080/"
        },
        "outputId": "223c0949-b901-4dc5-e594-ff11c3b2b36c"
      },
      "execution_count": 3,
      "outputs": [
        {
          "output_type": "stream",
          "name": "stderr",
          "text": [
            "/usr/local/lib/python3.10/dist-packages/sklearn/feature_extraction/text.py:517: UserWarning: The parameter 'token_pattern' will not be used since 'tokenizer' is not None'\n",
            "  warnings.warn(\n"
          ]
        },
        {
          "output_type": "stream",
          "name": "stdout",
          "text": [
            "Tamaño de X_vectorized: (44523, 9509)\n"
          ]
        }
      ]
    },
    {
      "cell_type": "markdown",
      "source": [
        "Exportar vectorizador"
      ],
      "metadata": {
        "id": "GpEFUnwtBnfs"
      }
    },
    {
      "cell_type": "code",
      "source": [
        "!pip install dill\n",
        "import dill as dl\n",
        "file = open(\"vectorizer.pkl\", \"wb\")\n",
        "dl.dump(vectorizer, file)\n",
        "file.close()"
      ],
      "metadata": {
        "id": "Qy9f3enEBnTy",
        "colab": {
          "base_uri": "https://localhost:8080/"
        },
        "outputId": "e529d93d-7f8b-44e4-baa5-0695a345ee4c"
      },
      "execution_count": null,
      "outputs": [
        {
          "output_type": "stream",
          "name": "stdout",
          "text": [
            "Collecting dill\n",
            "  Downloading dill-0.3.9-py3-none-any.whl.metadata (10 kB)\n",
            "Downloading dill-0.3.9-py3-none-any.whl (119 kB)\n",
            "\u001b[?25l   \u001b[90m━━━━━━━━━━━━━━━━━━━━━━━━━━━━━━━━━━━━━━━━\u001b[0m \u001b[32m0.0/119.4 kB\u001b[0m \u001b[31m?\u001b[0m eta \u001b[36m-:--:--\u001b[0m\r\u001b[2K   \u001b[91m━━━━━━━━━━━━━━━━━━━━━━━━━━━━━━━━━━━━━\u001b[0m\u001b[91m╸\u001b[0m\u001b[90m━━\u001b[0m \u001b[32m112.6/119.4 kB\u001b[0m \u001b[31m4.3 MB/s\u001b[0m eta \u001b[36m0:00:01\u001b[0m\r\u001b[2K   \u001b[90m━━━━━━━━━━━━━━━━━━━━━━━━━━━━━━━━━━━━━━━━\u001b[0m \u001b[32m119.4/119.4 kB\u001b[0m \u001b[31m2.3 MB/s\u001b[0m eta \u001b[36m0:00:00\u001b[0m\n",
            "\u001b[?25hInstalling collected packages: dill\n",
            "Successfully installed dill-0.3.9\n"
          ]
        }
      ]
    },
    {
      "cell_type": "markdown",
      "source": [
        "## NaiveBayes"
      ],
      "metadata": {
        "id": "8UZduf1ErkzO"
      }
    },
    {
      "cell_type": "code",
      "execution_count": null,
      "metadata": {
        "colab": {
          "base_uri": "https://localhost:8080/"
        },
        "id": "hsmD0e1sArrD",
        "outputId": "fccae9fe-d36a-47f2-a153-0816c4f1724a"
      },
      "outputs": [
        {
          "output_type": "stream",
          "name": "stdout",
          "text": [
            "Accuracy: 49.04%\n",
            "              precision    recall  f1-score   support\n",
            "\n",
            "           0       0.30      0.40      0.34       438\n",
            "           1       0.12      0.35      0.18        52\n",
            "           2       0.15      0.38      0.22        56\n",
            "           3       0.76      0.63      0.69      1537\n",
            "           4       0.53      0.40      0.45      1299\n",
            "           5       0.33      0.50      0.40       234\n",
            "           6       0.29      0.41      0.34       391\n",
            "\n",
            "    accuracy                           0.49      4007\n",
            "   macro avg       0.36      0.44      0.37      4007\n",
            "weighted avg       0.55      0.49      0.51      4007\n",
            "\n"
          ]
        }
      ],
      "source": [
        "# Crear el modelo Naive Bayes\n",
        "model = MultinomialNB(alpha=.4)  # Ajusta el parámetro alpha si es necesario\n",
        "\n",
        "## Entrenar el modelo\n",
        "model.fit(X_train_balanced, y_train_balanced)\n",
        "# model.fit(X_train, y_train)\n",
        "\n",
        "# Hacer predicciones\n",
        "y_pred = model.predict(X_valid)\n",
        "\n",
        "# Evaluar el modelo\n",
        "accuracy = accuracy_score(y_valid, y_pred)\n",
        "print(f'Accuracy: {accuracy * 100:.2f}%')\n",
        "\n",
        "# Reporte de clasificación\n",
        "print(classification_report(y_valid, y_pred))"
      ]
    },
    {
      "cell_type": "markdown",
      "metadata": {
        "id": "FJtT4ZzpLnnm"
      },
      "source": [
        "## *Word2Vec* (Google)"
      ]
    },
    {
      "cell_type": "code",
      "execution_count": null,
      "metadata": {
        "colab": {
          "base_uri": "https://localhost:8080/"
        },
        "id": "qvSbxaL5Lnbn",
        "outputId": "b0e21203-b0aa-49ed-bc37-5e3ba93ef986"
      },
      "outputs": [
        {
          "output_type": "stream",
          "name": "stdout",
          "text": [
            "Mounted at /content/drive\n"
          ]
        }
      ],
      "source": [
        "from google.colab import drive\n",
        "drive.mount('/content/drive')\n",
        "\n",
        "# Ruta al archivo en tu Google Drive\n",
        "model_path = '/content/drive/MyDrive/GoogleNews-vectors-negative300.bin'\n",
        "\n",
        "from gensim.models import KeyedVectors\n",
        "model_w2v = KeyedVectors.load_word2vec_format(model_path, binary=True)\n"
      ]
    },
    {
      "cell_type": "code",
      "execution_count": null,
      "metadata": {
        "id": "43cs9RgDbfP6"
      },
      "outputs": [],
      "source": [
        "def get_average_vector(tokens, model, vector_size=300):\n",
        "    vectors = []\n",
        "    for word in tokens:\n",
        "        if word in model:  # Acceder al modelo directamente\n",
        "            vectors.append(model[word])  # El diccionario de palabras está directamente en 'model'\n",
        "    if len(vectors) == 0:\n",
        "        return np.zeros(vector_size)\n",
        "    else:\n",
        "        return np.mean(vectors, axis=0)\n",
        "\n",
        "# Tokenizar el texto en 'df['text']'\n",
        "df['tokens'] = df['text'].apply(lambda x: x.split())\n",
        "\n",
        "# Obtener vectores promediados para los documentos\n",
        "X_vectors = np.array([get_average_vector(tokens, model_w2v) for tokens in df['tokens']])\n"
      ]
    },
    {
      "cell_type": "markdown",
      "source": [
        "### Naive Bayes"
      ],
      "metadata": {
        "id": "DWwGFQ2AdGjE"
      }
    },
    {
      "cell_type": "code",
      "execution_count": null,
      "metadata": {
        "colab": {
          "base_uri": "https://localhost:8080/"
        },
        "id": "CRdbd0Ugcx2U",
        "outputId": "445398cd-8029-45eb-e029-2555747c1623"
      },
      "outputs": [
        {
          "output_type": "stream",
          "name": "stdout",
          "text": [
            "Accuracy: 40.00%\n",
            "              precision    recall  f1-score   support\n",
            "\n",
            "           0       0.28      0.32      0.30       436\n",
            "           1       0.07      0.33      0.11        46\n",
            "           2       0.06      0.17      0.09        59\n",
            "           3       0.77      0.43      0.55      1565\n",
            "           4       0.46      0.48      0.47      1282\n",
            "           5       0.14      0.27      0.19       227\n",
            "           6       0.21      0.25      0.23       392\n",
            "\n",
            "    accuracy                           0.40      4007\n",
            "   macro avg       0.28      0.32      0.28      4007\n",
            "weighted avg       0.51      0.40      0.43      4007\n",
            "\n"
          ]
        }
      ],
      "source": [
        "# Escalamos, para que todos los valores sean positivos\n",
        "X_vectors = X_vectors + abs(X_vectors.min())\n",
        "\n",
        "# Dividir los datos en entrenamiento y prueba\n",
        "X_train_w2v, X_valid_w2v, y_train_w2v, y_valid_w2v = train_test_split(X_vectors, y, test_size=0.15, random_state=42)\n",
        "X_valid_w2v, X_test_w2v, y_valid_w2v, y_test_w2v = train_test_split(X_valid_w2v, y_valid_w2v, test_size=0.4, stratify=y_valid_w2v, random_state=42)\n",
        "\n",
        "# Crear el modelo Naive Bayes\n",
        "model = MultinomialNB(alpha=.4)  # Ajusta el parámetro alpha si es necesario\n",
        "\n",
        "## Usar SMOTE para balancear las clases\n",
        "smote = SMOTE()\n",
        "X_train_balanced_w2v, y_train_balanced_w2v = smote.fit_resample(X_train_w2v, y_train_w2v)\n",
        "\n",
        "## Entrenar el modelo\n",
        "model.fit(X_train_balanced_w2v, y_train_balanced_w2v)\n",
        "# model.fit(X_train, y_train)\n",
        "\n",
        "# Hacer predicciones\n",
        "y_pred = model.predict(X_valid_w2v)\n",
        "\n",
        "# Evaluar el modelo\n",
        "accuracy = accuracy_score(y_valid_w2v, y_pred)\n",
        "print(f'Accuracy: {accuracy * 100:.2f}%')\n",
        "\n",
        "# Reporte de clasificación\n",
        "print(classification_report(y_valid_w2v, y_pred))"
      ]
    },
    {
      "cell_type": "markdown",
      "source": [
        "Observamos que los resultados con Word2Vec son sustancialmente peores. De aquí en adelante se emplea TfidfVectorizer."
      ],
      "metadata": {
        "id": "xtgRZd3ffzd8"
      }
    },
    {
      "cell_type": "markdown",
      "metadata": {
        "id": "p5W6-CYKLq1j"
      },
      "source": [
        "## Regresion"
      ]
    },
    {
      "cell_type": "markdown",
      "source": [
        "Podemos usar penalización lasso (l1) o Ridge (l2)"
      ],
      "metadata": {
        "id": "wqlkoKUxng3f"
      }
    },
    {
      "cell_type": "code",
      "execution_count": 4,
      "metadata": {
        "id": "mGV4jfw5FKIU",
        "colab": {
          "base_uri": "https://localhost:8080/"
        },
        "outputId": "4c6c1503-4479-4fb3-899c-97a569a10cbb"
      },
      "outputs": [
        {
          "output_type": "stream",
          "name": "stdout",
          "text": [
            "Accuracy: 65.46%\n",
            "              precision    recall  f1-score   support\n",
            "\n",
            "           0       0.53      0.31      0.39       438\n",
            "           1       0.75      0.35      0.47        52\n",
            "           2       0.68      0.45      0.54        56\n",
            "           3       0.79      0.79      0.79      1537\n",
            "           4       0.56      0.77      0.65      1299\n",
            "           5       0.70      0.48      0.57       234\n",
            "           6       0.59      0.28      0.38       391\n",
            "\n",
            "    accuracy                           0.65      4007\n",
            "   macro avg       0.66      0.49      0.54      4007\n",
            "weighted avg       0.66      0.65      0.64      4007\n",
            "\n"
          ]
        }
      ],
      "source": [
        "# Crear y entrenar el modelo Logistic Regression\n",
        "model = LogisticRegression(max_iter=250, C=1.3, penalty='l1', solver='liblinear')\n",
        "model.fit(X_train, y_train)\n",
        "\n",
        "# Hacer predicciones\n",
        "y_pred = model.predict(X_valid)\n",
        "\n",
        "# Evaluar el modelo\n",
        "accuracy = accuracy_score(y_valid, y_pred)\n",
        "print(f'Accuracy: {accuracy * 100:.2f}%')\n",
        "\n",
        "# Reporte de clasificación\n",
        "print(classification_report(y_valid, y_pred))\n"
      ]
    },
    {
      "cell_type": "markdown",
      "source": [
        "Exporting with pickle"
      ],
      "metadata": {
        "id": "G_2wAix7yd0h"
      }
    },
    {
      "cell_type": "code",
      "source": [
        "import pickle as pkl\n",
        "file = open(\"regression.pkl\", \"wb\")\n",
        "pkl.dump(model, file)"
      ],
      "metadata": {
        "id": "SoGW9RgZynKg"
      },
      "execution_count": null,
      "outputs": []
    },
    {
      "cell_type": "code",
      "source": [
        "from sklearn.linear_model import LogisticRegressionCV\n",
        "\n",
        "# Crear y entrenar el modelo Logistic Regression\n",
        "model = LogisticRegressionCV(max_iter=250, penalty='l1', solver='liblinear')\n",
        "model.fit(X_train, y_train)\n",
        "\n",
        "# Hacer predicciones\n",
        "y_pred = model.predict(X_valid)\n",
        "\n",
        "# Evaluar el modelo\n",
        "accuracy = accuracy_score(y_valid, y_pred)\n",
        "print(f'Accuracy: {accuracy * 100:.2f}%')\n",
        "\n",
        "# Reporte de clasificación\n",
        "print(classification_report(y_valid, y_pred))"
      ],
      "metadata": {
        "colab": {
          "base_uri": "https://localhost:8080/"
        },
        "id": "YswcLxQVdvM0",
        "outputId": "55f43e97-090e-431f-b2dd-f57ec5dd0414"
      },
      "execution_count": null,
      "outputs": [
        {
          "output_type": "stream",
          "name": "stdout",
          "text": [
            "Accuracy: 64.19%\n",
            "              precision    recall  f1-score   support\n",
            "\n",
            "           0       0.46      0.32      0.38       438\n",
            "           1       0.65      0.33      0.44        52\n",
            "           2       0.60      0.45      0.51        56\n",
            "           3       0.78      0.79      0.78      1537\n",
            "           4       0.56      0.74      0.64      1299\n",
            "           5       0.68      0.48      0.56       234\n",
            "           6       0.59      0.24      0.34       391\n",
            "\n",
            "    accuracy                           0.64      4007\n",
            "   macro avg       0.61      0.48      0.52      4007\n",
            "weighted avg       0.64      0.64      0.63      4007\n",
            "\n"
          ]
        }
      ]
    },
    {
      "cell_type": "markdown",
      "source": [
        "Se emplea el clasificador con CV (Validacion Cruzada) para que auto ajuste el valor de penalización C."
      ],
      "metadata": {
        "id": "nMF8k7pptKfG"
      }
    },
    {
      "cell_type": "code",
      "execution_count": null,
      "metadata": {
        "id": "vBMly2emSTnd"
      },
      "outputs": [],
      "source": [
        "# Definir los parámetros que quieres probar\n",
        "param_grid = [\n",
        "    {\n",
        "        'penalty': ['l1', 'l2'],\n",
        "        'solver': ['liblinear'],\n",
        "        'max_iter': [250, 500, 1000, 1500],\n",
        "    },\n",
        "    {\n",
        "        'penalty': ['l1', 'l2', 'elasticnet'],\n",
        "        'solver': ['saga'],\n",
        "        'max_iter': [250, 500, 1000, 1500],\n",
        "    },\n",
        "    {\n",
        "        'penalty': ['l2'],  # Only 'l2' penalty for 'lbfgs' and 'newton-cg'\n",
        "        'solver': ['lbfgs', 'newton-cg'],\n",
        "        'max_iter': [250, 500, 1000, 1500],\n",
        "    }\n",
        "]\n",
        "\n",
        "\n",
        "# Crear el modelo de regresión logística\n",
        "model = LogisticRegressionCV()\n",
        "\n",
        "# Realizar la búsqueda de hiperparámetros; al usar la versión CV, se calibra internamente la penalización C.\n",
        "\n",
        "grid_search = GridSearchCV(estimator=model, param_grid=param_grid, cv=5)\n",
        "grid_search.fit(X_train, y_train)\n",
        "\n",
        "# Ver los mejores parámetros encontrados\n",
        "print(f\"Mejores parámetros: {grid_search.best_params_}\")"
      ]
    },
    {
      "cell_type": "markdown",
      "source": [
        "## kNN"
      ],
      "metadata": {
        "id": "DZEknglhrpkS"
      }
    },
    {
      "cell_type": "code",
      "source": [
        "from sklearn.neighbors import KNeighborsClassifier\n",
        "\n",
        "neighbor_range = range(1, 15)  # Test values from 1 to 20\n",
        "accuracies = []\n",
        "\n",
        "# Iterate over n_neighbors\n",
        "for k in neighbor_range:\n",
        "    knn = KNeighborsClassifier(n_neighbors=k)\n",
        "    knn.fit(X_train_balanced, y_train_balanced)\n",
        "    y_pred = knn.predict(X_valid)\n",
        "    acc = accuracy_score(y_valid, y_pred)\n",
        "    accuracies.append(acc)\n",
        "\n",
        "# Plot the results\n",
        "plt.figure(figsize=(10, 6))\n",
        "plt.plot(neighbor_range, accuracies, marker='o', linestyle='-', color='b')\n",
        "plt.title(\"Accuracy vs. Number of Neighbors (k)\")\n",
        "plt.xlabel(\"Number of Neighbors (k)\")\n",
        "plt.ylabel(\"Accuracy\")\n",
        "plt.xticks(neighbor_range)\n",
        "plt.grid()\n",
        "plt.show()"
      ],
      "metadata": {
        "colab": {
          "base_uri": "https://localhost:8080/",
          "height": 564
        },
        "id": "0vVtdBfZrrpj",
        "outputId": "36087cdb-9ed2-4ceb-83dc-23e21d96dbbe"
      },
      "execution_count": null,
      "outputs": [
        {
          "output_type": "display_data",
          "data": {
            "text/plain": [
              "<Figure size 1000x600 with 1 Axes>"
            ],
            "image/png": "[encoded data removed]"
          },
          "metadata": {}
        }
      ]
    },
    {
      "cell_type": "markdown",
      "source": [
        "## Clasificador binario"
      ],
      "metadata": {
        "id": "-Keei_gK8f8-"
      }
    },
    {
      "cell_type": "code",
      "source": [
        "# Entrenamiento del modelo de árbol de decisión multietiqueta\n",
        "classifier = DecisionTreeClassifier(random_state=42)\n",
        "classifier.fit(X_train, y_train)\n",
        "\n",
        "# Predicciones\n",
        "y_pred = classifier.predict(X_valid)\n",
        "\n",
        "# Evaluación del modelo\n",
        "print(classification_report(y_valid, y_pred))"
      ],
      "metadata": {
        "id": "dh19c1gl8fj8",
        "colab": {
          "base_uri": "https://localhost:8080/"
        },
        "outputId": "cc3dcc07-56ab-43a5-d5d3-01fe0b8617b1"
      },
      "execution_count": null,
      "outputs": [
        {
          "output_type": "stream",
          "name": "stdout",
          "text": [
            "              precision    recall  f1-score   support\n",
            "\n",
            "           0       0.34      0.31      0.33       438\n",
            "           1       0.32      0.29      0.30        52\n",
            "           2       0.51      0.32      0.40        56\n",
            "           3       0.69      0.70      0.70      1537\n",
            "           4       0.51      0.57      0.54      1299\n",
            "           5       0.46      0.36      0.41       234\n",
            "           6       0.30      0.26      0.28       391\n",
            "\n",
            "    accuracy                           0.54      4007\n",
            "   macro avg       0.45      0.40      0.42      4007\n",
            "weighted avg       0.54      0.54      0.54      4007\n",
            "\n"
          ]
        }
      ]
    },
    {
      "cell_type": "markdown",
      "source": [
        "## Passive-Aggressive"
      ],
      "metadata": {
        "id": "4UmOagh5RKGE"
      }
    },
    {
      "cell_type": "markdown",
      "source": [
        "Los Passive-Aggressive Classifiers son modelos eficientes y rápidos, ideales para escenarios de aprendizaje en línea y donde los datos están en constante cambio. Son especialmente útiles cuando necesitas clasificar grandes cantidades de datos de manera continua y adaptativa, como en clasificación de texto o flujos de datos en tiempo real. Sin embargo, no son adecuados para problemas no lineales y requieren ajustes cuidadosos del parámetro C para obtener buenos resultados."
      ],
      "metadata": {
        "id": "7KZPu5WYRKmN"
      }
    },
    {
      "cell_type": "code",
      "source": [
        "from sklearn.linear_model import PassiveAggressiveClassifier\n",
        "\n",
        "# Crear y entrenar el clasificador\n",
        "clf = PassiveAggressiveClassifier(max_iter=1000, random_state=41, C=0.002, loss = \"squared_hinge\")\n",
        "clf.fit(X_train, y_train)\n",
        "\n",
        "# Realizar predicciones\n",
        "y_pred = clf.predict(X_valid)\n",
        "\n",
        "# Evaluar el modelo\n",
        "print(\"Accuracy:\", accuracy_score(y_valid, y_pred))\n",
        "print(classification_report(y_valid, y_pred))"
      ],
      "metadata": {
        "colab": {
          "base_uri": "https://localhost:8080/"
        },
        "id": "Fhou0LBURPwr",
        "outputId": "52cf5456-fba2-4bd8-ed47-4e6da38457c5"
      },
      "execution_count": null,
      "outputs": [
        {
          "output_type": "stream",
          "name": "stdout",
          "text": [
            "Accuracy: 0.644871474918892\n",
            "              precision    recall  f1-score   support\n",
            "\n",
            "           0       0.49      0.30      0.37       438\n",
            "           1       0.79      0.37      0.50        52\n",
            "           2       0.73      0.39      0.51        56\n",
            "           3       0.78      0.80      0.79      1537\n",
            "           4       0.55      0.76      0.64      1299\n",
            "           5       0.70      0.43      0.53       234\n",
            "           6       0.59      0.27      0.37       391\n",
            "\n",
            "    accuracy                           0.64      4007\n",
            "   macro avg       0.66      0.47      0.53      4007\n",
            "weighted avg       0.65      0.64      0.63      4007\n",
            "\n"
          ]
        }
      ]
    },
    {
      "cell_type": "markdown",
      "source": [
        "## VSM"
      ],
      "metadata": {
        "id": "-bOpnThH_ZaZ"
      }
    },
    {
      "cell_type": "code",
      "source": [
        "from sklearn.svm import SVC\n",
        "\n",
        "mi_svc = SVC(kernel='rbf')\n",
        "mi_svc.fit(X_train, y_train)\n",
        "\n",
        "# Predicciones\n",
        "y_pred = mi_svc.predict(X_valid)\n",
        "\n",
        "# Evaluación del modelo\n",
        "print(\"Accuracy:\", accuracy_score(y_valid, y_pred))\n",
        "print(classification_report(y_valid, y_pred))"
      ],
      "metadata": {
        "colab": {
          "base_uri": "https://localhost:8080/"
        },
        "id": "AZPQOkm_CM_F",
        "outputId": "5f829766-965e-4188-9c3e-e33d383dd9a5"
      },
      "execution_count": null,
      "outputs": [
        {
          "output_type": "stream",
          "name": "stdout",
          "text": [
            "Accuracy: 0.6441227851260295\n",
            "              precision    recall  f1-score   support\n",
            "\n",
            "           0       0.57      0.26      0.35       438\n",
            "           1       0.74      0.33      0.45        52\n",
            "           2       0.71      0.30      0.42        56\n",
            "           3       0.81      0.76      0.78      1537\n",
            "           4       0.53      0.83      0.65      1299\n",
            "           5       0.71      0.41      0.52       234\n",
            "           6       0.65      0.22      0.33       391\n",
            "\n",
            "    accuracy                           0.64      4007\n",
            "   macro avg       0.67      0.44      0.50      4007\n",
            "weighted avg       0.67      0.64      0.62      4007\n",
            "\n"
          ]
        }
      ]
    },
    {
      "cell_type": "code",
      "source": [
        "from sklearn.svm import SVC\n",
        "\n",
        "mi_svc = SVC(kernel='sigmoid')\n",
        "mi_svc.fit(X_train, y_train)\n",
        "\n",
        "# Predicciones\n",
        "y_pred = mi_svc.predict(X_valid)\n",
        "\n",
        "# Evaluación del modelo\n",
        "print(\"Accuracy:\", accuracy_score(y_valid, y_pred))\n",
        "print(classification_report(y_valid, y_pred))"
      ],
      "metadata": {
        "colab": {
          "base_uri": "https://localhost:8080/"
        },
        "id": "UYbbACj_1HDw",
        "outputId": "0a749720-93c1-4229-8a7d-c8faa42a9d27"
      },
      "execution_count": null,
      "outputs": [
        {
          "output_type": "stream",
          "name": "stdout",
          "text": [
            "Accuracy: 0.6336411280259546\n",
            "              precision    recall  f1-score   support\n",
            "\n",
            "           0       0.49      0.29      0.36       438\n",
            "           1       0.67      0.35      0.46        52\n",
            "           2       0.59      0.46      0.52        56\n",
            "           3       0.78      0.76      0.77      1537\n",
            "           4       0.54      0.77      0.63      1299\n",
            "           5       0.64      0.45      0.53       234\n",
            "           6       0.60      0.25      0.35       391\n",
            "\n",
            "    accuracy                           0.63      4007\n",
            "   macro avg       0.62      0.48      0.52      4007\n",
            "weighted avg       0.64      0.63      0.62      4007\n",
            "\n"
          ]
        }
      ]
    },
    {
      "cell_type": "code",
      "source": [
        "from sklearn.svm import SVC\n",
        "\n",
        "mi_svc = SVC(kernel='linear')\n",
        "mi_svc.fit(X_train, y_train)\n",
        "\n",
        "# Predicciones\n",
        "y_pred = mi_svc.predict(X_valid)\n",
        "\n",
        "# Evaluación del modelo\n",
        "print(\"Accuracy:\", accuracy_score(y_valid, y_pred))\n",
        "print(classification_report(y_valid, y_pred))"
      ],
      "metadata": {
        "colab": {
          "base_uri": "https://localhost:8080/"
        },
        "id": "BeZSxGy862kW",
        "outputId": "89d63ca6-05a5-4643-9148-67f344cbbf28"
      },
      "execution_count": null,
      "outputs": [
        {
          "output_type": "stream",
          "name": "stdout",
          "text": [
            "Accuracy: 0.6446219116546045\n",
            "              precision    recall  f1-score   support\n",
            "\n",
            "           0       0.50      0.29      0.37       438\n",
            "           1       0.65      0.33      0.44        52\n",
            "           2       0.55      0.46      0.50        56\n",
            "           3       0.80      0.77      0.78      1537\n",
            "           4       0.55      0.79      0.65      1299\n",
            "           5       0.66      0.47      0.55       234\n",
            "           6       0.62      0.24      0.35       391\n",
            "\n",
            "    accuracy                           0.64      4007\n",
            "   macro avg       0.62      0.48      0.52      4007\n",
            "weighted avg       0.65      0.64      0.63      4007\n",
            "\n"
          ]
        }
      ]
    },
    {
      "cell_type": "code",
      "source": [
        "# Ajuste de parámetros mediante GridSearch\n",
        "param_grid = {\n",
        "    'C': [0.1, 1, 10],  # Valores de C a probar\n",
        "    'gamma': ['scale', 'auto', 0.1, 1]  # Valores de gamma\n",
        "}\n",
        "\n",
        "grid_search = GridSearchCV(SVC(kernel='rbf'), param_grid, cv=5, scoring='accuracy')\n",
        "grid_search.fit(X_train, y_train)\n",
        "\n",
        "print(\"Mejores parámetros encontrados:\", grid_search.best_params_)\n",
        "print(\"Mejor puntuación de validación:\", grid_search.best_score_)"
      ],
      "metadata": {
        "id": "v5MB25l7_bPB"
      },
      "execution_count": null,
      "outputs": []
    },
    {
      "cell_type": "markdown",
      "source": [
        "## OneVsRest"
      ],
      "metadata": {
        "id": "bU_vd0wXc-wZ"
      }
    },
    {
      "cell_type": "markdown",
      "source": [
        "Un **One-vs-Rest Classifier** (OvR), también conocido como **One-vs-All**, es una estrategia que transforma un problema de clasificación multiclase o multietiqueta en varios problemas de clasificación binaria, donde cada clase (o etiqueta) se trata por separado.\n",
        "\n",
        "### ¿Cómo funciona?\n",
        "\n",
        "Para cada clase \\( c_i \\) en el conjunto de clases \\( C = \\{c_1, c_2, ..., c_n\\} \\):\n",
        "   - Se entrena un modelo binario que distingue entre:\n",
        "     - \\( c_i \\): Los ejemplos positivos.\n",
        "     - \\( \\neg c_i \\): Los ejemplos negativos (todas las demás clases combinadas).\n",
        "\n",
        "### Ojo, algunos clasificadores ya usan OvR internamente, por ejemplo, los VSM\n",
        "\n",
        "El kNN no funcionó bien con ovr (daba 24%)\n"
      ],
      "metadata": {
        "id": "t1MXrPI18iPC"
      }
    },
    {
      "cell_type": "markdown",
      "source": [
        "### NB"
      ],
      "metadata": {
        "id": "HqxDENHZhCux"
      }
    },
    {
      "cell_type": "code",
      "source": [
        "# Entrenamiento del modelo de árbol de decisión multietiqueta\n",
        "classifier = OneVsRestClassifier(MultinomialNB(alpha=.4))\n",
        "classifier.fit(X_train_balanced, y_train_balanced)\n",
        "\n",
        "# Predicciones\n",
        "y_pred = classifier.predict(X_valid)\n",
        "\n",
        "# Evaluación del modelo\n",
        "print(\"Accuracy:\", accuracy_score(y_valid, y_pred))\n",
        "print(classification_report(y_valid, y_pred))"
      ],
      "metadata": {
        "colab": {
          "base_uri": "https://localhost:8080/"
        },
        "id": "k1d7jOHefvtf",
        "outputId": "7bf87f3a-a2fc-4437-abc5-2ad7d7d16248"
      },
      "execution_count": null,
      "outputs": [
        {
          "output_type": "stream",
          "name": "stdout",
          "text": [
            "Accuracy: 0.4946343898178188\n",
            "              precision    recall  f1-score   support\n",
            "\n",
            "           0       0.31      0.42      0.36       438\n",
            "           1       0.14      0.40      0.20        52\n",
            "           2       0.20      0.61      0.30        56\n",
            "           3       0.76      0.64      0.70      1537\n",
            "           4       0.53      0.36      0.43      1299\n",
            "           5       0.34      0.55      0.42       234\n",
            "           6       0.30      0.39      0.34       391\n",
            "\n",
            "    accuracy                           0.49      4007\n",
            "   macro avg       0.37      0.48      0.39      4007\n",
            "weighted avg       0.55      0.49      0.51      4007\n",
            "\n"
          ]
        }
      ]
    },
    {
      "cell_type": "markdown",
      "source": [
        "### DecisionTree"
      ],
      "metadata": {
        "id": "y35rQPfQhID7"
      }
    },
    {
      "cell_type": "code",
      "source": [
        "# Entrenamiento del modelo de árbol de decisión multietiqueta\n",
        "classifier = OneVsRestClassifier(DecisionTreeClassifier(random_state=42))\n",
        "classifier.fit(X_train_balanced, y_train_balanced)\n",
        "\n",
        "# Predicciones\n",
        "y_pred = classifier.predict(X_valid)\n",
        "\n",
        "# Evaluación del modelo\n",
        "print(\"Accuracy:\", accuracy_score(y_valid, y_pred))\n",
        "print(classification_report(y_valid, y_pred))"
      ],
      "metadata": {
        "colab": {
          "base_uri": "https://localhost:8080/"
        },
        "id": "Rd_eaMuIbcTK",
        "outputId": "59fa9581-8283-4aa4-9feb-25b7c7a30591"
      },
      "execution_count": null,
      "outputs": [
        {
          "output_type": "stream",
          "name": "stdout",
          "text": [
            "Accuracy: 0.44372348390316946\n",
            "              precision    recall  f1-score   support\n",
            "\n",
            "           0       0.41      0.19      0.26       438\n",
            "           1       0.47      0.31      0.37        52\n",
            "           2       0.62      0.38      0.47        56\n",
            "           3       0.79      0.54      0.64      1537\n",
            "           4       0.49      0.36      0.42      1299\n",
            "           5       0.46      0.47      0.46       234\n",
            "           6       0.17      0.65      0.27       391\n",
            "\n",
            "    accuracy                           0.44      4007\n",
            "   macro avg       0.49      0.41      0.41      4007\n",
            "weighted avg       0.56      0.44      0.47      4007\n",
            "\n"
          ]
        }
      ]
    },
    {
      "cell_type": "markdown",
      "source": [
        "### Passive-Aggressive"
      ],
      "metadata": {
        "id": "RpEHLskhDK55"
      }
    },
    {
      "cell_type": "code",
      "source": [
        "classifier = OneVsRestClassifier(PassiveAggressiveClassifier(max_iter=1000, random_state=41, C=0.002, loss = \"squared_hinge\"))\n",
        "classifier.fit(X_train_balanced, y_train_balanced)\n",
        "\n",
        "# Predicciones\n",
        "y_pred = classifier.predict(X_valid)\n",
        "\n",
        "# Evaluación del modelo\n",
        "print(\"Accuracy:\", accuracy_score(y_valid, y_pred))\n",
        "print(classification_report(y_valid, y_pred))\n"
      ],
      "metadata": {
        "colab": {
          "base_uri": "https://localhost:8080/"
        },
        "id": "gWQDehYdDKgW",
        "outputId": "8f8f2f8a-53a3-429d-cc8b-a9009a406b35"
      },
      "execution_count": null,
      "outputs": [
        {
          "output_type": "stream",
          "name": "stdout",
          "text": [
            "Accuracy: 0.5934614424756676\n",
            "              precision    recall  f1-score   support\n",
            "\n",
            "           0       0.38      0.48      0.43       438\n",
            "           1       0.28      0.52      0.36        52\n",
            "           2       0.37      0.66      0.48        56\n",
            "           3       0.83      0.71      0.77      1537\n",
            "           4       0.61      0.52      0.56      1299\n",
            "           5       0.48      0.60      0.53       234\n",
            "           6       0.36      0.50      0.42       391\n",
            "\n",
            "    accuracy                           0.59      4007\n",
            "   macro avg       0.47      0.57      0.51      4007\n",
            "weighted avg       0.63      0.59      0.61      4007\n",
            "\n"
          ]
        }
      ]
    },
    {
      "cell_type": "markdown",
      "source": [
        "## Random Forest"
      ],
      "metadata": {
        "id": "W9v-v7I0U88o"
      }
    },
    {
      "cell_type": "code",
      "source": [
        "from sklearn.ensemble import RandomForestClassifier\n",
        "# Crear el modelo de Random Forest\n",
        "rf_clf = RandomForestClassifier(n_estimators=500, random_state=42)\n",
        "\n",
        "# Entrenar el modelo\n",
        "rf_clf.fit(X_train, y_train)\n",
        "\n",
        "# Hacer predicciones\n",
        "y_pred = rf_clf.predict(X_valid)\n",
        "\n",
        "# Evaluar el modelo\n",
        "print(\"Accuracy:\", accuracy_score(y_valid, y_pred))\n",
        "print(classification_report(y_valid, y_pred))"
      ],
      "metadata": {
        "colab": {
          "base_uri": "https://localhost:8080/"
        },
        "id": "AFsMvr2EU_Fd",
        "outputId": "be9ceaf4-f87b-491d-c6c0-eac50758c050"
      },
      "execution_count": null,
      "outputs": [
        {
          "output_type": "stream",
          "name": "stdout",
          "text": [
            "Accuracy: 0.635388070875967\n",
            "              precision    recall  f1-score   support\n",
            "\n",
            "           0       0.65      0.20      0.31       438\n",
            "           1       0.72      0.25      0.37        52\n",
            "           2       0.86      0.21      0.34        56\n",
            "           3       0.74      0.79      0.76      1537\n",
            "           4       0.53      0.82      0.65      1299\n",
            "           5       0.81      0.35      0.49       234\n",
            "           6       0.73      0.17      0.27       391\n",
            "\n",
            "    accuracy                           0.64      4007\n",
            "   macro avg       0.72      0.40      0.46      4007\n",
            "weighted avg       0.67      0.64      0.60      4007\n",
            "\n"
          ]
        }
      ]
    },
    {
      "cell_type": "markdown",
      "source": [
        "## AdaBoost"
      ],
      "metadata": {
        "id": "MhfQw0MJaV4b"
      }
    },
    {
      "cell_type": "code",
      "source": [
        "from sklearn.ensemble import AdaBoostClassifier\n",
        "# Initialize AdaBoost with DecisionTreeClassifier as the base estimator\n",
        "adaboost_clf = AdaBoostClassifier(\n",
        "    estimator=DecisionTreeClassifier(max_depth=1),  # Weak classifier (decision stump)\n",
        "    n_estimators=2000,                                    # Number of weak classifiers\n",
        "    learning_rate=1.0                                   # Learning rate\n",
        ")\n",
        "\n",
        "# Train the model\n",
        "adaboost_clf.fit(X_train, y_train)\n",
        "\n",
        "# Make predictions\n",
        "y_pred = adaboost_clf.predict(X_valid)\n",
        "\n",
        "print(\"Accuracy:\", accuracy_score(y_valid, y_pred))\n",
        "print(classification_report(y_valid, y_pred))"
      ],
      "metadata": {
        "id": "ZdIxlBqZaXRp",
        "colab": {
          "base_uri": "https://localhost:8080/"
        },
        "outputId": "75d14f8b-8231-41f6-e7d8-584988867384"
      },
      "execution_count": null,
      "outputs": [
        {
          "output_type": "stream",
          "name": "stdout",
          "text": [
            "Accuracy: 0.5455452957324681\n",
            "              precision    recall  f1-score   support\n",
            "\n",
            "           0       0.69      0.11      0.20       438\n",
            "           1       1.00      0.02      0.04        52\n",
            "           2       1.00      0.02      0.04        56\n",
            "           3       0.77      0.56      0.65      1537\n",
            "           4       0.44      0.93      0.60      1299\n",
            "           5       0.87      0.25      0.39       234\n",
            "           6       0.82      0.02      0.04       391\n",
            "\n",
            "    accuracy                           0.55      4007\n",
            "   macro avg       0.80      0.27      0.28      4007\n",
            "weighted avg       0.67      0.55      0.49      4007\n",
            "\n"
          ]
        }
      ]
    },
    {
      "cell_type": "markdown",
      "source": [
        "## XGBoost"
      ],
      "metadata": {
        "id": "4bEuEEIpZoaw"
      }
    },
    {
      "cell_type": "code",
      "source": [
        "!pip install xgboost\n",
        "\n",
        "from xgboost import XGBClassifier\n",
        "\n",
        "# Initialize the XGBoost classifier\n",
        "xgb_clf = XGBClassifier(\n",
        "    n_estimators=100,    # Number of trees\n",
        "    max_depth=5,         # Maximum depth of trees\n",
        "    learning_rate=0.1,   # Learning rate\n",
        "    use_label_encoder=False,  # Avoid warnings for label encoding\n",
        "    eval_metric='logloss'     # Specify evaluation metric\n",
        ")\n",
        "\n",
        "# Train the model\n",
        "xgb_clf.fit(X_train, y_train)\n",
        "\n",
        "# Make predictions\n",
        "y_pred = xgb_clf.predict(X_valid)\n",
        "\n",
        "print(\"Accuracy:\", accuracy_score(y_valid, y_pred))\n",
        "print(classification_report(y_valid, y_pred))"
      ],
      "metadata": {
        "id": "pWdW_m2_ZqGQ",
        "colab": {
          "base_uri": "https://localhost:8080/"
        },
        "outputId": "d76c9f0c-8209-4091-b1c5-342d3856068c"
      },
      "execution_count": null,
      "outputs": [
        {
          "output_type": "stream",
          "name": "stdout",
          "text": [
            "Requirement already satisfied: xgboost in /usr/local/lib/python3.10/dist-packages (2.1.3)\n",
            "Requirement already satisfied: numpy in /usr/local/lib/python3.10/dist-packages (from xgboost) (1.26.4)\n",
            "Requirement already satisfied: nvidia-nccl-cu12 in /usr/local/lib/python3.10/dist-packages (from xgboost) (2.23.4)\n",
            "Requirement already satisfied: scipy in /usr/local/lib/python3.10/dist-packages (from xgboost) (1.13.1)\n"
          ]
        },
        {
          "output_type": "stream",
          "name": "stderr",
          "text": [
            "/usr/local/lib/python3.10/dist-packages/xgboost/core.py:158: UserWarning: [10:47:16] WARNING: /workspace/src/learner.cc:740: \n",
            "Parameters: { \"use_label_encoder\" } are not used.\n",
            "\n",
            "  warnings.warn(smsg, UserWarning)\n"
          ]
        },
        {
          "output_type": "stream",
          "name": "stdout",
          "text": [
            "Accuracy: 0.6313950586473671\n",
            "              precision    recall  f1-score   support\n",
            "\n",
            "           0       0.64      0.22      0.32       438\n",
            "           1       0.68      0.29      0.41        52\n",
            "           2       0.72      0.38      0.49        56\n",
            "           3       0.84      0.69      0.75      1537\n",
            "           4       0.51      0.88      0.64      1299\n",
            "           5       0.73      0.42      0.54       234\n",
            "           6       0.62      0.26      0.37       391\n",
            "\n",
            "    accuracy                           0.63      4007\n",
            "   macro avg       0.68      0.45      0.50      4007\n",
            "weighted avg       0.68      0.63      0.61      4007\n",
            "\n"
          ]
        }
      ]
    },
    {
      "cell_type": "markdown",
      "source": [
        "## Ensemble con votación"
      ],
      "metadata": {
        "id": "Dez4cuKxY78_"
      }
    },
    {
      "cell_type": "code",
      "source": [
        "from sklearn.ensemble import VotingClassifier\n",
        "\n",
        "# Define classifiers\n",
        "clf1 = LogisticRegression(max_iter=250, C=1.3, penalty='l1', solver='liblinear')\n",
        "clf2 = PassiveAggressiveClassifier(max_iter=1000, random_state=41, C=0.002, loss = \"squared_hinge\")\n",
        "clf3 = SVC(probability=True, kernel='linear')\n",
        "\n",
        "# Create ensemble classifier\n",
        "ensemble = VotingClassifier(estimators=[('lr', clf1), ('rf', clf2), ('svc', clf3)], voting='hard')\n",
        "ensemble.fit(X_train, y_train)\n",
        "\n",
        "# Evaluate\n",
        "y_pred = ensemble.predict(X_valid)\n",
        "print(\"Accuracy:\", accuracy_score(y_valid, y_pred))\n",
        "print(classification_report(y_valid, y_pred))"
      ],
      "metadata": {
        "id": "UPhF8vjdY9-M",
        "colab": {
          "base_uri": "https://localhost:8080/"
        },
        "outputId": "e59607a0-4b8d-41fc-8616-638576abb5e5"
      },
      "execution_count": null,
      "outputs": [
        {
          "output_type": "stream",
          "name": "stdout",
          "text": [
            "Accuracy: 0.6481157973546294\n",
            "              precision    recall  f1-score   support\n",
            "\n",
            "           0       0.50      0.30      0.38       438\n",
            "           1       0.72      0.35      0.47        52\n",
            "           2       0.63      0.39      0.48        56\n",
            "           3       0.79      0.79      0.79      1537\n",
            "           4       0.55      0.77      0.64      1299\n",
            "           5       0.70      0.45      0.55       234\n",
            "           6       0.59      0.26      0.36       391\n",
            "\n",
            "    accuracy                           0.65      4007\n",
            "   macro avg       0.64      0.47      0.52      4007\n",
            "weighted avg       0.65      0.65      0.63      4007\n",
            "\n"
          ]
        }
      ]
    },
    {
      "cell_type": "markdown",
      "source": [
        "## Perceptron\n"
      ],
      "metadata": {
        "id": "dbjSFl7cuk-P"
      }
    },
    {
      "cell_type": "code",
      "source": [
        "from sklearn.neural_network import MLPClassifier\n",
        "clf = MLPClassifier(hidden_layer_sizes=(128, 64), random_state=1, max_iter=300).fit(X_train, y_train)\n",
        "\n",
        "predict = clf.predict(X_valid)\n",
        "print(classification_report(y_valid, predict))"
      ],
      "metadata": {
        "id": "8ysUUNvMumdJ"
      },
      "execution_count": null,
      "outputs": []
    }
  ],
  "metadata": {
    "colab": {
      "provenance": []
    },
    "kernelspec": {
      "display_name": "Python 3",
      "name": "python3"
    },
    "language_info": {
      "name": "python"
    }
  },
  "nbformat": 4,
  "nbformat_minor": 0
}