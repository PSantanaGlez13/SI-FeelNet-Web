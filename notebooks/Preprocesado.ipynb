{
  "nbformat": 4,
  "nbformat_minor": 0,
  "metadata": {
    "colab": {
      "provenance": [],
      "collapsed_sections": [
        "BqWskAz9MXgE"
      ]
    },
    "kernelspec": {
      "name": "python3",
      "display_name": "Python 3"
    },
    "language_info": {
      "name": "python"
    }
  },
  "cells": [
    {
      "cell_type": "markdown",
      "source": [
        "# FeelNet"
      ],
      "metadata": {
        "id": "dOJty1uW8Ogs"
      }
    },
    {
      "cell_type": "markdown",
      "source": [
        "## Preprocesado"
      ],
      "metadata": {
        "id": "yNMJ9fvO8TrZ"
      }
    },
    {
      "cell_type": "code",
      "source": [
        "import nltk\n",
        "import string\n",
        "!pip install emoji\n",
        "import emoji\n",
        "import math\n",
        "import re\n",
        "import os\n",
        "import collections\n",
        "import matplotlib.pyplot as plt\n",
        "\n",
        "nltk.download('stopwords')\n",
        "# nltk.download('punkt')\n",
        "\n",
        "from nltk import word_tokenize\n",
        "from nltk.corpus import stopwords\n",
        "from nltk.stem import PorterStemmer\n",
        "from sklearn.model_selection import train_test_split\n",
        "# from nltk.stem import WordNetLemmatizer\n",
        "# from spellchecker import SpellChecker\n",
        "\n",
        "import pandas as pd\n",
        "import kagglehub"
      ],
      "metadata": {
        "id": "cECxKIvo9KJG",
        "colab": {
          "base_uri": "https://localhost:8080/"
        },
        "outputId": "45a6d9a0-9938-48ab-b682-bc74622619be"
      },
      "execution_count": null,
      "outputs": [
        {
          "output_type": "stream",
          "name": "stdout",
          "text": [
            "Collecting emoji\n",
            "  Downloading emoji-2.14.0-py3-none-any.whl.metadata (5.7 kB)\n",
            "Downloading emoji-2.14.0-py3-none-any.whl (586 kB)\n",
            "\u001b[2K   \u001b[90m━━━━━━━━━━━━━━━━━━━━━━━━━━━━━━━━━━━━━━━━\u001b[0m \u001b[32m586.9/586.9 kB\u001b[0m \u001b[31m7.3 MB/s\u001b[0m eta \u001b[36m0:00:00\u001b[0m\n",
            "\u001b[?25hInstalling collected packages: emoji\n",
            "Successfully installed emoji-2.14.0\n"
          ]
        },
        {
          "output_type": "stream",
          "name": "stderr",
          "text": [
            "[nltk_data] Downloading package stopwords to /root/nltk_data...\n",
            "[nltk_data]   Unzipping corpora/stopwords.zip.\n"
          ]
        }
      ]
    },
    {
      "cell_type": "markdown",
      "source": [
        "### Carga de datos y pequeño análisis"
      ],
      "metadata": {
        "id": "fL5EPRf6FO-a"
      }
    },
    {
      "cell_type": "code",
      "source": [
        "dataset = pd.read_csv('raw_dataset.csv')\n",
        "dataset.head()"
      ],
      "metadata": {
        "colab": {
          "base_uri": "https://localhost:8080/",
          "height": 206
        },
        "id": "ig7wlG71AqGY",
        "outputId": "4e35074c-c78e-43ca-c953-b339bcd2e434"
      },
      "execution_count": null,
      "outputs": [
        {
          "output_type": "execute_result",
          "data": {
            "text/plain": [
              "                                                text  labels\n",
              "0  My favourite food is anything I didn't have to...       4\n",
              "1  Now if he does off himself, everyone will thin...       4\n",
              "2                     WHY THE FUCK IS BAYLESS ISOING       0\n",
              "3                        To make her feel threatened       2\n",
              "4                             Dirty Southern Wankers       0"
            ],
            "text/html": [
              "\n",
              "  <div id=\"df-0bbe520d-ce41-4f2f-83f2-7f9ee1d2e571\" class=\"colab-df-container\">\n",
              "    <div>\n",
              "<style scoped>\n",
              "    .dataframe tbody tr th:only-of-type {\n",
              "        vertical-align: middle;\n",
              "    }\n",
              "\n",
              "    .dataframe tbody tr th {\n",
              "        vertical-align: top;\n",
              "    }\n",
              "\n",
              "    .dataframe thead th {\n",
              "        text-align: right;\n",
              "    }\n",
              "</style>\n",
              "<table border=\"1\" class=\"dataframe\">\n",
              "  <thead>\n",
              "    <tr style=\"text-align: right;\">\n",
              "      <th></th>\n",
              "      <th>text</th>\n",
              "      <th>labels</th>\n",
              "    </tr>\n",
              "  </thead>\n",
              "  <tbody>\n",
              "    <tr>\n",
              "      <th>0</th>\n",
              "      <td>My favourite food is anything I didn't have to...</td>\n",
              "      <td>4</td>\n",
              "    </tr>\n",
              "    <tr>\n",
              "      <th>1</th>\n",
              "      <td>Now if he does off himself, everyone will thin...</td>\n",
              "      <td>4</td>\n",
              "    </tr>\n",
              "    <tr>\n",
              "      <th>2</th>\n",
              "      <td>WHY THE FUCK IS BAYLESS ISOING</td>\n",
              "      <td>0</td>\n",
              "    </tr>\n",
              "    <tr>\n",
              "      <th>3</th>\n",
              "      <td>To make her feel threatened</td>\n",
              "      <td>2</td>\n",
              "    </tr>\n",
              "    <tr>\n",
              "      <th>4</th>\n",
              "      <td>Dirty Southern Wankers</td>\n",
              "      <td>0</td>\n",
              "    </tr>\n",
              "  </tbody>\n",
              "</table>\n",
              "</div>\n",
              "    <div class=\"colab-df-buttons\">\n",
              "\n",
              "  <div class=\"colab-df-container\">\n",
              "    <button class=\"colab-df-convert\" onclick=\"convertToInteractive('df-0bbe520d-ce41-4f2f-83f2-7f9ee1d2e571')\"\n",
              "            title=\"Convert this dataframe to an interactive table.\"\n",
              "            style=\"display:none;\">\n",
              "\n",
              "  <svg xmlns=\"http://www.w3.org/2000/svg\" height=\"24px\" viewBox=\"0 -960 960 960\">\n",
              "    <path d=\"M120-120v-720h720v720H120Zm60-500h600v-160H180v160Zm220 220h160v-160H400v160Zm0 220h160v-160H400v160ZM180-400h160v-160H180v160Zm440 0h160v-160H620v160ZM180-180h160v-160H180v160Zm440 0h160v-160H620v160Z\"/>\n",
              "  </svg>\n",
              "    </button>\n",
              "\n",
              "  <style>\n",
              "    .colab-df-container {\n",
              "      display:flex;\n",
              "      gap: 12px;\n",
              "    }\n",
              "\n",
              "    .colab-df-convert {\n",
              "      background-color: #E8F0FE;\n",
              "      border: none;\n",
              "      border-radius: 50%;\n",
              "      cursor: pointer;\n",
              "      display: none;\n",
              "      fill: #1967D2;\n",
              "      height: 32px;\n",
              "      padding: 0 0 0 0;\n",
              "      width: 32px;\n",
              "    }\n",
              "\n",
              "    .colab-df-convert:hover {\n",
              "      background-color: #E2EBFA;\n",
              "      box-shadow: 0px 1px 2px rgba(60, 64, 67, 0.3), 0px 1px 3px 1px rgba(60, 64, 67, 0.15);\n",
              "      fill: #174EA6;\n",
              "    }\n",
              "\n",
              "    .colab-df-buttons div {\n",
              "      margin-bottom: 4px;\n",
              "    }\n",
              "\n",
              "    [theme=dark] .colab-df-convert {\n",
              "      background-color: #3B4455;\n",
              "      fill: #D2E3FC;\n",
              "    }\n",
              "\n",
              "    [theme=dark] .colab-df-convert:hover {\n",
              "      background-color: #434B5C;\n",
              "      box-shadow: 0px 1px 3px 1px rgba(0, 0, 0, 0.15);\n",
              "      filter: drop-shadow(0px 1px 2px rgba(0, 0, 0, 0.3));\n",
              "      fill: #FFFFFF;\n",
              "    }\n",
              "  </style>\n",
              "\n",
              "    <script>\n",
              "      const buttonEl =\n",
              "        document.querySelector('#df-0bbe520d-ce41-4f2f-83f2-7f9ee1d2e571 button.colab-df-convert');\n",
              "      buttonEl.style.display =\n",
              "        google.colab.kernel.accessAllowed ? 'block' : 'none';\n",
              "\n",
              "      async function convertToInteractive(key) {\n",
              "        const element = document.querySelector('#df-0bbe520d-ce41-4f2f-83f2-7f9ee1d2e571');\n",
              "        const dataTable =\n",
              "          await google.colab.kernel.invokeFunction('convertToInteractive',\n",
              "                                                    [key], {});\n",
              "        if (!dataTable) return;\n",
              "\n",
              "        const docLinkHtml = 'Like what you see? Visit the ' +\n",
              "          '<a target=\"_blank\" href=https://colab.research.google.com/notebooks/data_table.ipynb>data table notebook</a>'\n",
              "          + ' to learn more about interactive tables.';\n",
              "        element.innerHTML = '';\n",
              "        dataTable['output_type'] = 'display_data';\n",
              "        await google.colab.output.renderOutput(dataTable, element);\n",
              "        const docLink = document.createElement('div');\n",
              "        docLink.innerHTML = docLinkHtml;\n",
              "        element.appendChild(docLink);\n",
              "      }\n",
              "    </script>\n",
              "  </div>\n",
              "\n",
              "\n",
              "<div id=\"df-426d2be4-ed19-4dcc-ba7b-069c0dee0c57\">\n",
              "  <button class=\"colab-df-quickchart\" onclick=\"quickchart('df-426d2be4-ed19-4dcc-ba7b-069c0dee0c57')\"\n",
              "            title=\"Suggest charts\"\n",
              "            style=\"display:none;\">\n",
              "\n",
              "<svg xmlns=\"http://www.w3.org/2000/svg\" height=\"24px\"viewBox=\"0 0 24 24\"\n",
              "     width=\"24px\">\n",
              "    <g>\n",
              "        <path d=\"M19 3H5c-1.1 0-2 .9-2 2v14c0 1.1.9 2 2 2h14c1.1 0 2-.9 2-2V5c0-1.1-.9-2-2-2zM9 17H7v-7h2v7zm4 0h-2V7h2v10zm4 0h-2v-4h2v4z\"/>\n",
              "    </g>\n",
              "</svg>\n",
              "  </button>\n",
              "\n",
              "<style>\n",
              "  .colab-df-quickchart {\n",
              "      --bg-color: #E8F0FE;\n",
              "      --fill-color: #1967D2;\n",
              "      --hover-bg-color: #E2EBFA;\n",
              "      --hover-fill-color: #174EA6;\n",
              "      --disabled-fill-color: #AAA;\n",
              "      --disabled-bg-color: #DDD;\n",
              "  }\n",
              "\n",
              "  [theme=dark] .colab-df-quickchart {\n",
              "      --bg-color: #3B4455;\n",
              "      --fill-color: #D2E3FC;\n",
              "      --hover-bg-color: #434B5C;\n",
              "      --hover-fill-color: #FFFFFF;\n",
              "      --disabled-bg-color: #3B4455;\n",
              "      --disabled-fill-color: #666;\n",
              "  }\n",
              "\n",
              "  .colab-df-quickchart {\n",
              "    background-color: var(--bg-color);\n",
              "    border: none;\n",
              "    border-radius: 50%;\n",
              "    cursor: pointer;\n",
              "    display: none;\n",
              "    fill: var(--fill-color);\n",
              "    height: 32px;\n",
              "    padding: 0;\n",
              "    width: 32px;\n",
              "  }\n",
              "\n",
              "  .colab-df-quickchart:hover {\n",
              "    background-color: var(--hover-bg-color);\n",
              "    box-shadow: 0 1px 2px rgba(60, 64, 67, 0.3), 0 1px 3px 1px rgba(60, 64, 67, 0.15);\n",
              "    fill: var(--button-hover-fill-color);\n",
              "  }\n",
              "\n",
              "  .colab-df-quickchart-complete:disabled,\n",
              "  .colab-df-quickchart-complete:disabled:hover {\n",
              "    background-color: var(--disabled-bg-color);\n",
              "    fill: var(--disabled-fill-color);\n",
              "    box-shadow: none;\n",
              "  }\n",
              "\n",
              "  .colab-df-spinner {\n",
              "    border: 2px solid var(--fill-color);\n",
              "    border-color: transparent;\n",
              "    border-bottom-color: var(--fill-color);\n",
              "    animation:\n",
              "      spin 1s steps(1) infinite;\n",
              "  }\n",
              "\n",
              "  @keyframes spin {\n",
              "    0% {\n",
              "      border-color: transparent;\n",
              "      border-bottom-color: var(--fill-color);\n",
              "      border-left-color: var(--fill-color);\n",
              "    }\n",
              "    20% {\n",
              "      border-color: transparent;\n",
              "      border-left-color: var(--fill-color);\n",
              "      border-top-color: var(--fill-color);\n",
              "    }\n",
              "    30% {\n",
              "      border-color: transparent;\n",
              "      border-left-color: var(--fill-color);\n",
              "      border-top-color: var(--fill-color);\n",
              "      border-right-color: var(--fill-color);\n",
              "    }\n",
              "    40% {\n",
              "      border-color: transparent;\n",
              "      border-right-color: var(--fill-color);\n",
              "      border-top-color: var(--fill-color);\n",
              "    }\n",
              "    60% {\n",
              "      border-color: transparent;\n",
              "      border-right-color: var(--fill-color);\n",
              "    }\n",
              "    80% {\n",
              "      border-color: transparent;\n",
              "      border-right-color: var(--fill-color);\n",
              "      border-bottom-color: var(--fill-color);\n",
              "    }\n",
              "    90% {\n",
              "      border-color: transparent;\n",
              "      border-bottom-color: var(--fill-color);\n",
              "    }\n",
              "  }\n",
              "</style>\n",
              "\n",
              "  <script>\n",
              "    async function quickchart(key) {\n",
              "      const quickchartButtonEl =\n",
              "        document.querySelector('#' + key + ' button');\n",
              "      quickchartButtonEl.disabled = true;  // To prevent multiple clicks.\n",
              "      quickchartButtonEl.classList.add('colab-df-spinner');\n",
              "      try {\n",
              "        const charts = await google.colab.kernel.invokeFunction(\n",
              "            'suggestCharts', [key], {});\n",
              "      } catch (error) {\n",
              "        console.error('Error during call to suggestCharts:', error);\n",
              "      }\n",
              "      quickchartButtonEl.classList.remove('colab-df-spinner');\n",
              "      quickchartButtonEl.classList.add('colab-df-quickchart-complete');\n",
              "    }\n",
              "    (() => {\n",
              "      let quickchartButtonEl =\n",
              "        document.querySelector('#df-426d2be4-ed19-4dcc-ba7b-069c0dee0c57 button');\n",
              "      quickchartButtonEl.style.display =\n",
              "        google.colab.kernel.accessAllowed ? 'block' : 'none';\n",
              "    })();\n",
              "  </script>\n",
              "</div>\n",
              "\n",
              "    </div>\n",
              "  </div>\n"
            ],
            "application/vnd.google.colaboratory.intrinsic+json": {
              "type": "dataframe",
              "variable_name": "dataset",
              "summary": "{\n  \"name\": \"dataset\",\n  \"rows\": 44523,\n  \"fields\": [\n    {\n      \"column\": \"text\",\n      \"properties\": {\n        \"dtype\": \"string\",\n        \"num_unique_values\": 44319,\n        \"samples\": [\n          \"Are you having a stroke? Do you smell toast?\",\n          \"Crayfish. thank you! this cord was from an old beam-type smoke detector.\",\n          \"It usually comes out after people catch me dissociating.\"\n        ],\n        \"semantic_type\": \"\",\n        \"description\": \"\"\n      }\n    },\n    {\n      \"column\": \"labels\",\n      \"properties\": {\n        \"dtype\": \"number\",\n        \"std\": 1,\n        \"min\": 0,\n        \"max\": 6,\n        \"num_unique_values\": 7,\n        \"samples\": [\n          4,\n          0,\n          5\n        ],\n        \"semantic_type\": \"\",\n        \"description\": \"\"\n      }\n    }\n  ]\n}"
            }
          },
          "metadata": {},
          "execution_count": 2
        }
      ]
    },
    {
      "cell_type": "markdown",
      "source": [
        "Traducción etiqueta - sentmiento:\n",
        "- 0: anger\n",
        "- 1: disgust\n",
        "- 2: fear\n",
        "- 3: joy\n",
        "- 4: neutral\n",
        "- 5: sadness\n",
        "- 6: surprise"
      ],
      "metadata": {
        "id": "RgwqMYAACnOl"
      }
    },
    {
      "cell_type": "code",
      "source": [
        "# dataset.columns\n",
        "distribution = dataset['labels'].value_counts()\n",
        "distribution.plot(kind='bar')\n",
        "plt.title('Distribución de etiquetas')\n",
        "plt.xlabel('Etiqueta')\n",
        "plt.ylabel('Frecuencia')\n",
        "plt.show()"
      ],
      "metadata": {
        "colab": {
          "base_uri": "https://localhost:8080/",
          "height": 467
        },
        "id": "LWH706cJDRlf",
        "outputId": "4fc556d2-e34c-499d-b802-9fddb460061c"
      },
      "execution_count": null,
      "outputs": [
        {
          "output_type": "display_data",
          "data": {
            "text/plain": [
              "<Figure size 640x480 with 1 Axes>"
            ],
            "image/png": "[encoded data removed]"
          },
          "metadata": {}
        }
      ]
    },
    {
      "cell_type": "markdown",
      "source": [
        "Valores nulos"
      ],
      "metadata": {
        "id": "T0N-vpJbGnEz"
      }
    },
    {
      "cell_type": "code",
      "source": [
        "has_null = dataset.isna().any().any()\n",
        "print(f\"Dataset has null value: {has_null}\")"
      ],
      "metadata": {
        "colab": {
          "base_uri": "https://localhost:8080/"
        },
        "id": "zJOrptVmGwTe",
        "outputId": "34bdb3eb-c515-4b35-c928-6da3660a174a"
      },
      "execution_count": null,
      "outputs": [
        {
          "output_type": "stream",
          "name": "stdout",
          "text": [
            "Dataset has null value: False\n"
          ]
        }
      ]
    },
    {
      "cell_type": "markdown",
      "source": [
        "###Tratamiento de cosas"
      ],
      "metadata": {
        "id": "K8BJWp-5LPGt"
      }
    },
    {
      "cell_type": "code",
      "source": [
        "# Comprobamos si hay saltos de líneas\n",
        "has_newlines = dataset.map(lambda x: '\\n' in str(x)).any().any()\n",
        "\n",
        "print(f\"Does the DataFrame contain newlines? {has_newlines}\")\n",
        "\n",
        "data_string = '\\n'.join(dataset['text'])"
      ],
      "metadata": {
        "colab": {
          "base_uri": "https://localhost:8080/"
        },
        "id": "absPQTwsNV_X",
        "outputId": "704bf9e9-de71-421e-889f-fcd002fad03b"
      },
      "execution_count": null,
      "outputs": [
        {
          "output_type": "stream",
          "name": "stdout",
          "text": [
            "Does the DataFrame contain newlines? False\n"
          ]
        }
      ]
    },
    {
      "cell_type": "code",
      "source": [
        "# Set to lowercase and erase punctuation symbols\n",
        "#translate_table = dict((ord(char), ' ') for char in string.punctuation)\n",
        "#lower_text = data_string.lower().translate(translate_table)\n",
        "\n",
        "lower_text = data_string.lower()\n",
        "\n",
        "# Regular expression to match punctuation\n",
        "# Matches all punctuation except colons followed by 1–2 non-whitespace characters\n",
        "pattern = rf\"[:;][^\\s]{{1,2}}|[{re.escape(string.punctuation)}]\"\n",
        "\n",
        "# Replace matches with a space, keeping valid emoji-like patterns\n",
        "lower_text = re.sub(pattern, lambda m: f\"<{m.group()}>\" if re.fullmatch(r\"[:;][^\\s]{1,2}\", m.group()) else \" \", lower_text)\n",
        "\n",
        "print(lower_text[0:500])"
      ],
      "metadata": {
        "colab": {
          "base_uri": "https://localhost:8080/"
        },
        "id": "8nqTerHZLxL-",
        "outputId": "45ad4587-5166-45cc-c94d-264dc3556e86"
      },
      "execution_count": null,
      "outputs": [
        {
          "output_type": "stream",
          "name": "stdout",
          "text": [
            "my favourite food is anything i didn t have to cook myself \n",
            "now if he does off himself  everyone will think hes having a laugh screwing with people instead of actually dead\n",
            "why the fuck is bayless isoing\n",
            "to make her feel threatened\n",
            "dirty southern wankers\n",
            "omg peyton isn t good enough to help us in the playoffs  dumbass broncos fans circa december 2015 \n",
            "yes i heard abt the f bombs  that has to be why  thanks for your reply<:)> until then hubby and i will anxiously wait 😝\n",
            "we need more boards and to\n"
          ]
        }
      ]
    },
    {
      "cell_type": "code",
      "source": [
        "# EMOJIS\n",
        "lower_text = emoji.demojize(lower_text)"
      ],
      "metadata": {
        "id": "nTIeVAYuQiSM"
      },
      "execution_count": null,
      "outputs": []
    },
    {
      "cell_type": "code",
      "source": [
        "# Volver a lista de tweets\n",
        "tweets_tratados = lower_text.splitlines()"
      ],
      "metadata": {
        "id": "f09iF6pRNLgi"
      },
      "execution_count": null,
      "outputs": []
    },
    {
      "cell_type": "code",
      "source": [
        "# Remove stop words & stemming\n",
        "stemmer = PorterStemmer()\n",
        "stemmed_tweets = [[stemmer.stem(w) for w in text.split()] for text in tweets_tratados]\n",
        "\n",
        "# lemmatizer = WordNetLemmatizer()\n",
        "# unique_tokens = set([lemmatizer.lemmatize(t) for t in unique_tokens])\n",
        "\n",
        "stop_words =  stopwords.words('english')"
      ],
      "metadata": {
        "id": "2u0pBoGuLSm8"
      },
      "execution_count": null,
      "outputs": []
    },
    {
      "cell_type": "code",
      "source": [
        "stemmed_tweets[982]"
      ],
      "metadata": {
        "colab": {
          "base_uri": "https://localhost:8080/"
        },
        "id": "3u_1F3AsSxKU",
        "outputId": "db7145ad-22f7-4016-b4a0-ed593c5b8992"
      },
      "execution_count": null,
      "outputs": [
        {
          "output_type": "execute_result",
          "data": {
            "text/plain": [
              "['by',\n",
              " 'rant',\n",
              " 'aimlessli',\n",
              " 'on',\n",
              " 'the',\n",
              " 'internet',\n",
              " 'about',\n",
              " 'it',\n",
              " 'obvious',\n",
              " '<;)>']"
            ]
          },
          "metadata": {},
          "execution_count": 24
        }
      ]
    },
    {
      "cell_type": "code",
      "source": [
        "processed_text = [[t for t in text if t not in stop_words] for text in stemmed_tweets]\n",
        "proccessed_text = '\\n'.join([' '.join(tweet) for tweet in stemmed_tweets])\n",
        "print(proccessed_text[:200])"
      ],
      "metadata": {
        "colab": {
          "base_uri": "https://localhost:8080/"
        },
        "id": "kGqBQxicNvON",
        "outputId": "7d314134-7fa2-4d28-885a-3da3ef743fa3"
      },
      "execution_count": null,
      "outputs": [
        {
          "output_type": "stream",
          "name": "stdout",
          "text": [
            "my favourit food is anyth i didn t have to cook myself\n",
            "now if he doe off himself everyon will think he have a laugh screw with peopl instead of actual dead\n",
            "whi the fuck is bayless iso\n",
            "to make her feel\n"
          ]
        }
      ]
    },
    {
      "cell_type": "code",
      "source": [
        "## Special tokens\n",
        "# end_tokens = re.sub(r'\\b(\\w*((\\d+[a-z]+)|([a-z]+\\d+))\\w*)\\b', lambda x: f' <ALPHANUM> ', clean_tokens)\n",
        "proccessed_text = re.sub(r'\\b\\w*?(\\d+)\\w*?\\b', lambda x: f' <NUMBER{len(x.group(1))}> ', proccessed_text)\n",
        "\n",
        "# the same letter 3 consecutively times\n",
        "proccessed_text = re.sub(r'\\b\\w*([a-z])\\1\\1\\w*\\b', ' <TRASH> ', proccessed_text)\n",
        "\n",
        "# # HTML\n",
        "# end_tokens = re.sub(r'html', ' <HTMLA> ', end_tokens)\n",
        "\n",
        "# EMOJI\n",
        "proccessed_text = re.sub(r'\\b:(.*?):\\b', lambda x: f' <{x.group(1)}> ', proccessed_text)\n",
        "\n",
        "# NO VOWEL: tv, dvd, ...\n",
        "#proccessed_text = re.sub(r'\\b[^\\sAEIOUYaeyiou]+[^\\sAEIOUYaeyiou]+\\b', ' <NOVOW> ', proccessed_text)\n",
        "\n",
        "# # speller\n",
        "# print(\"Speller\")fda\n",
        "# spell = SpellChecker()\n",
        "\n",
        "# sorted_result = sorted(set(spell.correction(token) for token in end_tokens.split(\" \")))\n",
        "\n",
        "# Limpiamos 2 o mas espacios consecutivos por uno solo\n",
        "proccessed_text = re.sub(r' +', ' ', proccessed_text)\n",
        "new_text = proccessed_text.splitlines()\n",
        "\n",
        "# limpiamos espacios intermedios y por la izquierda\n",
        "\n",
        "new_text = [text.strip() for text in new_text]\n",
        "\n",
        "dataset['text'] = new_text\n",
        "\n",
        "# Eliminamos valores vacíos\n",
        "dataset = dataset.replace(\"\", pd.NA)  # pd.NA es un equivalente moderno a NaN\n",
        "dataset = dataset.dropna()\n",
        "\n",
        "dataset.to_csv('out.csv', index=False)"
      ],
      "metadata": {
        "id": "yZ_H_bEAS-H6"
      },
      "execution_count": null,
      "outputs": []
    }
  ]
}